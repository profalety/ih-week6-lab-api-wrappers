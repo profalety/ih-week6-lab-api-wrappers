{
 "cells": [
  {
   "cell_type": "markdown",
   "id": "9531b7f4-7f17-4d30-b845-0c0faf05e77f",
   "metadata": {},
   "source": [
    "# Lab 1"
   ]
  },
  {
   "cell_type": "markdown",
   "id": "703eae91-fbbe-40d0-b018-765e636a0dd9",
   "metadata": {},
   "source": [
    "## Authentication with Spotify API"
   ]
  },
  {
   "cell_type": "code",
   "execution_count": 38,
   "id": "6b052c85-ccee-47bb-be8a-78862d9b0747",
   "metadata": {},
   "outputs": [],
   "source": [
    "import spotipy\n",
    "from spotipy.oauth2 import SpotifyClientCredentials\n",
    "\n",
    "#Initialize SpotiPy with user credentials\n",
    "#sp = spotipy.Spotify(auth_manager=SpotifyClientCredentials(client_id='<your client id here>',\n",
    "#                                                           client_secret='<your client secret here>'))"
   ]
  },
  {
   "cell_type": "code",
   "execution_count": 39,
   "id": "023b4ff4-069c-4dc3-b561-0764fd760f0a",
   "metadata": {},
   "outputs": [],
   "source": [
    "# creating secrets\n",
    "secrets_file = open(\"secrets.txt\",\"r\")\n",
    "string = secrets_file.read()\n",
    "string.split('\\n')\n",
    "secrets_dict={}\n",
    "for line in string.split('\\n'):\n",
    "    if len(line) > 0:\n",
    "        secrets_dict[line.split(':')[0]]=line.split(':')[1]"
   ]
  },
  {
   "cell_type": "code",
   "execution_count": 40,
   "id": "4bf855e5-15ef-4763-b7ec-897aecf91342",
   "metadata": {},
   "outputs": [],
   "source": [
    "# authentication with secrets\n",
    "\n",
    "#Initialize SpotiPy with user credentials\n",
    "sp = spotipy.Spotify(auth_manager=SpotifyClientCredentials(client_id=secrets_dict['cid'],\n",
    "                                                           client_secret=secrets_dict['csecret']))"
   ]
  },
  {
   "cell_type": "markdown",
   "id": "ecc37c41-d8e9-47d5-b343-81b9940bf1a9",
   "metadata": {},
   "source": [
    "## Get data from API"
   ]
  },
  {
   "cell_type": "code",
   "execution_count": 41,
   "id": "33b5a737-74cf-4c5d-a7fc-cc25e3b4a816",
   "metadata": {},
   "outputs": [],
   "source": [
    "playlist_id = '50WijGE2KSlSS9Sn4uIZjB'"
   ]
  },
  {
   "cell_type": "code",
   "execution_count": 42,
   "id": "1fb20993-76d3-4e89-bc87-51db17928bc3",
   "metadata": {},
   "outputs": [],
   "source": [
    "from random import randint\n",
    "from time import sleep\n",
    "\n",
    "def get_playlist_tracks(playlist_id):\n",
    "    results = sp.user_playlist_tracks(\"spotify\",playlist_id)\n",
    "    tracks = results['items']\n",
    "    while results['next']!=None:\n",
    "        results = sp.next(results)\n",
    "        tracks = tracks + results['items']\n",
    "        print('some results loaded')\n",
    "        sleep(randint(1,3))\n",
    "    return tracks"
   ]
  },
  {
   "cell_type": "code",
   "execution_count": 43,
   "id": "2285c881-d3a1-4caa-a737-8c5d6cca1f7d",
   "metadata": {},
   "outputs": [
    {
     "name": "stdout",
     "output_type": "stream",
     "text": [
      "some results loaded\n"
     ]
    },
    {
     "data": {
      "text/plain": [
       "170"
      ]
     },
     "execution_count": 43,
     "metadata": {},
     "output_type": "execute_result"
    }
   ],
   "source": [
    "all_tracks = get_playlist_tracks(playlist_id)\n",
    "len(all_tracks)"
   ]
  },
  {
   "cell_type": "code",
   "execution_count": 44,
   "id": "fbf0a7da-14b6-4b97-bc6d-e61d1bbac691",
   "metadata": {},
   "outputs": [],
   "source": [
    "playlist = sp.user_playlist_tracks(\"spotify\", playlist_id)"
   ]
  },
  {
   "cell_type": "code",
   "execution_count": 45,
   "id": "bd427776-cc9e-4674-b2e2-ac188800f6db",
   "metadata": {},
   "outputs": [
    {
     "data": {
      "text/plain": [
       "dict_keys(['album', 'artists', 'available_markets', 'disc_number', 'duration_ms', 'episode', 'explicit', 'external_ids', 'external_urls', 'href', 'id', 'is_local', 'name', 'popularity', 'preview_url', 'track', 'track_number', 'type', 'uri'])"
      ]
     },
     "execution_count": 45,
     "metadata": {},
     "output_type": "execute_result"
    }
   ],
   "source": [
    "all_tracks[0]['track'].keys()"
   ]
  },
  {
   "cell_type": "code",
   "execution_count": 46,
   "id": "d36b78a8-7517-4048-8b49-64fa9aa07294",
   "metadata": {},
   "outputs": [
    {
     "data": {
      "text/plain": [
       "dict_keys(['href', 'items', 'limit', 'next', 'offset', 'previous', 'total'])"
      ]
     },
     "execution_count": 46,
     "metadata": {},
     "output_type": "execute_result"
    }
   ],
   "source": [
    "playlist.keys()"
   ]
  },
  {
   "cell_type": "code",
   "execution_count": 47,
   "id": "26382cc4-3020-4477-a9a6-8a1f24cb0cf0",
   "metadata": {},
   "outputs": [],
   "source": [
    "def get_playlist_tracks(playlist_id):\n",
    "    results = sp.user_playlist_tracks(\"spotify\", playlist_id)\n",
    "    tracks = results['items']\n",
    "    while results['next']:\n",
    "        results = sp.next(results)\n",
    "        tracks.extend(results['items'])\n",
    "    return tracks"
   ]
  },
  {
   "cell_type": "code",
   "execution_count": 48,
   "id": "450cbaf1-9260-4da9-a6e2-324d83bbdbf1",
   "metadata": {},
   "outputs": [],
   "source": [
    "all_tracks = get_playlist_tracks(playlist_id)"
   ]
  },
  {
   "cell_type": "code",
   "execution_count": 49,
   "id": "0bc7883b-1004-4651-a56b-b23fbb7d202f",
   "metadata": {},
   "outputs": [
    {
     "data": {
      "text/plain": [
       "dict_keys(['album', 'artists', 'available_markets', 'disc_number', 'duration_ms', 'episode', 'explicit', 'external_ids', 'external_urls', 'href', 'id', 'is_local', 'name', 'popularity', 'preview_url', 'track', 'track_number', 'type', 'uri'])"
      ]
     },
     "execution_count": 49,
     "metadata": {},
     "output_type": "execute_result"
    }
   ],
   "source": [
    "all_tracks[0]['track'].keys()"
   ]
  },
  {
   "cell_type": "code",
   "execution_count": 50,
   "id": "80c203a5-a074-401c-93bf-2f0456d0a220",
   "metadata": {},
   "outputs": [
    {
     "data": {
      "text/plain": [
       "'2step (feat. Lil Baby)'"
      ]
     },
     "execution_count": 50,
     "metadata": {},
     "output_type": "execute_result"
    }
   ],
   "source": [
    "all_tracks[0]['track']['name']"
   ]
  },
  {
   "cell_type": "code",
   "execution_count": 51,
   "id": "51aff467-4548-453f-aa44-eefb1ef8e584",
   "metadata": {},
   "outputs": [
    {
     "data": {
      "text/plain": [
       "'Ed Sheeran'"
      ]
     },
     "execution_count": 51,
     "metadata": {},
     "output_type": "execute_result"
    }
   ],
   "source": [
    "# BE AWARE! can be more than one artists per track. So 2nd indice must be iterate through\n",
    "all_tracks[0]['track']['artists'][0]['name']"
   ]
  },
  {
   "cell_type": "code",
   "execution_count": 52,
   "id": "65f7de7a-3b6e-4980-bd57-923c11c94058",
   "metadata": {},
   "outputs": [
    {
     "data": {
      "text/plain": [
       "80"
      ]
     },
     "execution_count": 52,
     "metadata": {},
     "output_type": "execute_result"
    }
   ],
   "source": [
    "all_tracks[0]['track']['popularity']"
   ]
  },
  {
   "cell_type": "code",
   "execution_count": 53,
   "id": "a977c76b-cda5-464f-9974-ef8548d088cd",
   "metadata": {},
   "outputs": [
    {
     "data": {
      "text/plain": [
       "2"
      ]
     },
     "execution_count": 53,
     "metadata": {},
     "output_type": "execute_result"
    }
   ],
   "source": [
    "len(all_tracks[0]['track']['artists'])"
   ]
  },
  {
   "cell_type": "code",
   "execution_count": 54,
   "id": "63fa3323-2fed-47ce-ab21-f0190f407832",
   "metadata": {},
   "outputs": [
    {
     "data": {
      "text/plain": [
       "170"
      ]
     },
     "execution_count": 54,
     "metadata": {},
     "output_type": "execute_result"
    }
   ],
   "source": [
    "len(all_tracks)"
   ]
  },
  {
   "cell_type": "code",
   "execution_count": 55,
   "id": "fc163af5-4251-4d48-a1ec-fcc88b45af3a",
   "metadata": {},
   "outputs": [],
   "source": [
    "tracks = []\n",
    "artists = []\n",
    "popularity = []\n",
    "for track in all_tracks:\n",
    "    tracks.append(track['track']['name'])\n",
    "    popularity.append(track['track']['popularity'])\n",
    "    artists_per_track = ''\n",
    "    for artist in track['track']['artists']:\n",
    "        if artists_per_track == '':\n",
    "            artists_per_track = artist['name']\n",
    "        else:\n",
    "            artists_per_track = artists_per_track + ', ' + artist['name']\n",
    "    artists.append(artists_per_track)        "
   ]
  },
  {
   "cell_type": "code",
   "execution_count": 56,
   "id": "0486aabe-9700-4c28-8b0a-d723f8a6f9da",
   "metadata": {},
   "outputs": [
    {
     "name": "stdout",
     "output_type": "stream",
     "text": [
      "170\n",
      "170\n",
      "170\n"
     ]
    }
   ],
   "source": [
    "print(len(tracks))\n",
    "print(len(artists))\n",
    "print(len(popularity))"
   ]
  },
  {
   "cell_type": "markdown",
   "id": "f895b47f-b0b9-4006-aac0-bc83c78ce85f",
   "metadata": {},
   "source": [
    "## Creating the Dataframe"
   ]
  },
  {
   "cell_type": "markdown",
   "id": "2fe81b04-3b6e-420c-a844-6e325d67322a",
   "metadata": {},
   "source": [
    "### Create dataframe with tracks from our playlist"
   ]
  },
  {
   "cell_type": "code",
   "execution_count": 57,
   "id": "a8045bff-1d9c-4c9b-9f9c-f9f9b2a278f3",
   "metadata": {},
   "outputs": [],
   "source": [
    "import pandas as pd\n",
    "df = pd.DataFrame(tracks, columns = ['track_name'])"
   ]
  },
  {
   "cell_type": "code",
   "execution_count": 58,
   "id": "9c2b1be7-7513-466f-b45e-435d6069aeab",
   "metadata": {},
   "outputs": [],
   "source": [
    "df['artist_name'] = artists\n",
    "df['popularity'] = popularity"
   ]
  },
  {
   "cell_type": "code",
   "execution_count": 59,
   "id": "aa2eeca4-f800-4539-8921-c0c332c6a83d",
   "metadata": {},
   "outputs": [
    {
     "data": {
      "text/html": [
       "<div>\n",
       "<style scoped>\n",
       "    .dataframe tbody tr th:only-of-type {\n",
       "        vertical-align: middle;\n",
       "    }\n",
       "\n",
       "    .dataframe tbody tr th {\n",
       "        vertical-align: top;\n",
       "    }\n",
       "\n",
       "    .dataframe thead th {\n",
       "        text-align: right;\n",
       "    }\n",
       "</style>\n",
       "<table border=\"1\" class=\"dataframe\">\n",
       "  <thead>\n",
       "    <tr style=\"text-align: right;\">\n",
       "      <th></th>\n",
       "      <th>track_name</th>\n",
       "      <th>artist_name</th>\n",
       "      <th>popularity</th>\n",
       "    </tr>\n",
       "  </thead>\n",
       "  <tbody>\n",
       "    <tr>\n",
       "      <th>0</th>\n",
       "      <td>2step (feat. Lil Baby)</td>\n",
       "      <td>Ed Sheeran, Lil Baby</td>\n",
       "      <td>80</td>\n",
       "    </tr>\n",
       "    <tr>\n",
       "      <th>1</th>\n",
       "      <td>As It Was</td>\n",
       "      <td>Harry Styles</td>\n",
       "      <td>100</td>\n",
       "    </tr>\n",
       "    <tr>\n",
       "      <th>2</th>\n",
       "      <td>Thousand Miles</td>\n",
       "      <td>The Kid LAROI</td>\n",
       "      <td>85</td>\n",
       "    </tr>\n",
       "    <tr>\n",
       "      <th>3</th>\n",
       "      <td>Dancing Feet (feat. DNCE)</td>\n",
       "      <td>Kygo, DNCE</td>\n",
       "      <td>80</td>\n",
       "    </tr>\n",
       "    <tr>\n",
       "      <th>4</th>\n",
       "      <td>Crazy What Love Can Do</td>\n",
       "      <td>David Guetta, Becky Hill, Ella Henderson</td>\n",
       "      <td>81</td>\n",
       "    </tr>\n",
       "    <tr>\n",
       "      <th>...</th>\n",
       "      <td>...</td>\n",
       "      <td>...</td>\n",
       "      <td>...</td>\n",
       "    </tr>\n",
       "    <tr>\n",
       "      <th>165</th>\n",
       "      <td>Mosaik</td>\n",
       "      <td>kid kapri, Florida Juicy</td>\n",
       "      <td>39</td>\n",
       "    </tr>\n",
       "    <tr>\n",
       "      <th>166</th>\n",
       "      <td>Sterne unterm Dach</td>\n",
       "      <td>badmómzjay</td>\n",
       "      <td>1</td>\n",
       "    </tr>\n",
       "    <tr>\n",
       "      <th>167</th>\n",
       "      <td>u.</td>\n",
       "      <td>niteboi</td>\n",
       "      <td>73</td>\n",
       "    </tr>\n",
       "    <tr>\n",
       "      <th>168</th>\n",
       "      <td>love nwantiti (feat. ElGrande Toto) - North Af...</td>\n",
       "      <td>CKay, ElGrandeToto</td>\n",
       "      <td>71</td>\n",
       "    </tr>\n",
       "    <tr>\n",
       "      <th>169</th>\n",
       "      <td>Bad Habits</td>\n",
       "      <td>Ed Sheeran</td>\n",
       "      <td>34</td>\n",
       "    </tr>\n",
       "  </tbody>\n",
       "</table>\n",
       "<p>170 rows × 3 columns</p>\n",
       "</div>"
      ],
      "text/plain": [
       "                                            track_name  \\\n",
       "0                               2step (feat. Lil Baby)   \n",
       "1                                            As It Was   \n",
       "2                                       Thousand Miles   \n",
       "3                            Dancing Feet (feat. DNCE)   \n",
       "4                               Crazy What Love Can Do   \n",
       "..                                                 ...   \n",
       "165                                             Mosaik   \n",
       "166                                 Sterne unterm Dach   \n",
       "167                                                 u.   \n",
       "168  love nwantiti (feat. ElGrande Toto) - North Af...   \n",
       "169                                         Bad Habits   \n",
       "\n",
       "                                  artist_name  popularity  \n",
       "0                        Ed Sheeran, Lil Baby          80  \n",
       "1                                Harry Styles         100  \n",
       "2                               The Kid LAROI          85  \n",
       "3                                  Kygo, DNCE          80  \n",
       "4    David Guetta, Becky Hill, Ella Henderson          81  \n",
       "..                                        ...         ...  \n",
       "165                  kid kapri, Florida Juicy          39  \n",
       "166                                badmómzjay           1  \n",
       "167                                   niteboi          73  \n",
       "168                        CKay, ElGrandeToto          71  \n",
       "169                                Ed Sheeran          34  \n",
       "\n",
       "[170 rows x 3 columns]"
      ]
     },
     "execution_count": 59,
     "metadata": {},
     "output_type": "execute_result"
    }
   ],
   "source": [
    "df"
   ]
  },
  {
   "cell_type": "code",
   "execution_count": 60,
   "id": "3184695f-a0bc-4cc6-9752-3f05dd6c88c0",
   "metadata": {},
   "outputs": [],
   "source": [
    "df['track_id'] = [(all_tracks[i]['track']['uri']) for i in range(len(all_tracks))]"
   ]
  },
  {
   "cell_type": "code",
   "execution_count": 61,
   "id": "e5bec798-c65e-4eb9-9f13-4f4ca260c257",
   "metadata": {},
   "outputs": [],
   "source": [
    "df = df[['artist_name', 'track_id', 'track_name', 'popularity']]"
   ]
  },
  {
   "cell_type": "code",
   "execution_count": 62,
   "id": "1a1a1fbb-8efc-4909-a82a-26e44d81fb71",
   "metadata": {},
   "outputs": [
    {
     "data": {
      "text/html": [
       "<div>\n",
       "<style scoped>\n",
       "    .dataframe tbody tr th:only-of-type {\n",
       "        vertical-align: middle;\n",
       "    }\n",
       "\n",
       "    .dataframe tbody tr th {\n",
       "        vertical-align: top;\n",
       "    }\n",
       "\n",
       "    .dataframe thead th {\n",
       "        text-align: right;\n",
       "    }\n",
       "</style>\n",
       "<table border=\"1\" class=\"dataframe\">\n",
       "  <thead>\n",
       "    <tr style=\"text-align: right;\">\n",
       "      <th></th>\n",
       "      <th>artist_name</th>\n",
       "      <th>track_id</th>\n",
       "      <th>track_name</th>\n",
       "      <th>popularity</th>\n",
       "    </tr>\n",
       "  </thead>\n",
       "  <tbody>\n",
       "    <tr>\n",
       "      <th>0</th>\n",
       "      <td>Ed Sheeran, Lil Baby</td>\n",
       "      <td>spotify:track:2UN0lp72LAusrXi8LLVomt</td>\n",
       "      <td>2step (feat. Lil Baby)</td>\n",
       "      <td>80</td>\n",
       "    </tr>\n",
       "    <tr>\n",
       "      <th>1</th>\n",
       "      <td>Harry Styles</td>\n",
       "      <td>spotify:track:4LRPiXqCikLlN15c3yImP7</td>\n",
       "      <td>As It Was</td>\n",
       "      <td>100</td>\n",
       "    </tr>\n",
       "    <tr>\n",
       "      <th>2</th>\n",
       "      <td>The Kid LAROI</td>\n",
       "      <td>spotify:track:1r8ZCjfrQxoy2wVaBUbpwg</td>\n",
       "      <td>Thousand Miles</td>\n",
       "      <td>85</td>\n",
       "    </tr>\n",
       "    <tr>\n",
       "      <th>3</th>\n",
       "      <td>Kygo, DNCE</td>\n",
       "      <td>spotify:track:4RAR8g8fZNB106ezUurnE0</td>\n",
       "      <td>Dancing Feet (feat. DNCE)</td>\n",
       "      <td>80</td>\n",
       "    </tr>\n",
       "    <tr>\n",
       "      <th>4</th>\n",
       "      <td>David Guetta, Becky Hill, Ella Henderson</td>\n",
       "      <td>spotify:track:1WCEAGGRD066z2Q89ObXTq</td>\n",
       "      <td>Crazy What Love Can Do</td>\n",
       "      <td>81</td>\n",
       "    </tr>\n",
       "    <tr>\n",
       "      <th>...</th>\n",
       "      <td>...</td>\n",
       "      <td>...</td>\n",
       "      <td>...</td>\n",
       "      <td>...</td>\n",
       "    </tr>\n",
       "    <tr>\n",
       "      <th>165</th>\n",
       "      <td>kid kapri, Florida Juicy</td>\n",
       "      <td>spotify:track:3x9fMzoAPNxEFVrP6kU1f7</td>\n",
       "      <td>Mosaik</td>\n",
       "      <td>39</td>\n",
       "    </tr>\n",
       "    <tr>\n",
       "      <th>166</th>\n",
       "      <td>badmómzjay</td>\n",
       "      <td>spotify:track:0Gj6aUE3y9Pcjm9Lr3IcH9</td>\n",
       "      <td>Sterne unterm Dach</td>\n",
       "      <td>1</td>\n",
       "    </tr>\n",
       "    <tr>\n",
       "      <th>167</th>\n",
       "      <td>niteboi</td>\n",
       "      <td>spotify:track:0J7oHYxjF6Oln61wy0kP2i</td>\n",
       "      <td>u.</td>\n",
       "      <td>73</td>\n",
       "    </tr>\n",
       "    <tr>\n",
       "      <th>168</th>\n",
       "      <td>CKay, ElGrandeToto</td>\n",
       "      <td>spotify:track:1EYeZGTMCjV7uVey5fNWXM</td>\n",
       "      <td>love nwantiti (feat. ElGrande Toto) - North Af...</td>\n",
       "      <td>71</td>\n",
       "    </tr>\n",
       "    <tr>\n",
       "      <th>169</th>\n",
       "      <td>Ed Sheeran</td>\n",
       "      <td>spotify:track:6PQ88X9TkUIAUIZJHW2upE</td>\n",
       "      <td>Bad Habits</td>\n",
       "      <td>34</td>\n",
       "    </tr>\n",
       "  </tbody>\n",
       "</table>\n",
       "<p>170 rows × 4 columns</p>\n",
       "</div>"
      ],
      "text/plain": [
       "                                  artist_name  \\\n",
       "0                        Ed Sheeran, Lil Baby   \n",
       "1                                Harry Styles   \n",
       "2                               The Kid LAROI   \n",
       "3                                  Kygo, DNCE   \n",
       "4    David Guetta, Becky Hill, Ella Henderson   \n",
       "..                                        ...   \n",
       "165                  kid kapri, Florida Juicy   \n",
       "166                                badmómzjay   \n",
       "167                                   niteboi   \n",
       "168                        CKay, ElGrandeToto   \n",
       "169                                Ed Sheeran   \n",
       "\n",
       "                                 track_id  \\\n",
       "0    spotify:track:2UN0lp72LAusrXi8LLVomt   \n",
       "1    spotify:track:4LRPiXqCikLlN15c3yImP7   \n",
       "2    spotify:track:1r8ZCjfrQxoy2wVaBUbpwg   \n",
       "3    spotify:track:4RAR8g8fZNB106ezUurnE0   \n",
       "4    spotify:track:1WCEAGGRD066z2Q89ObXTq   \n",
       "..                                    ...   \n",
       "165  spotify:track:3x9fMzoAPNxEFVrP6kU1f7   \n",
       "166  spotify:track:0Gj6aUE3y9Pcjm9Lr3IcH9   \n",
       "167  spotify:track:0J7oHYxjF6Oln61wy0kP2i   \n",
       "168  spotify:track:1EYeZGTMCjV7uVey5fNWXM   \n",
       "169  spotify:track:6PQ88X9TkUIAUIZJHW2upE   \n",
       "\n",
       "                                            track_name  popularity  \n",
       "0                               2step (feat. Lil Baby)          80  \n",
       "1                                            As It Was         100  \n",
       "2                                       Thousand Miles          85  \n",
       "3                            Dancing Feet (feat. DNCE)          80  \n",
       "4                               Crazy What Love Can Do          81  \n",
       "..                                                 ...         ...  \n",
       "165                                             Mosaik          39  \n",
       "166                                 Sterne unterm Dach           1  \n",
       "167                                                 u.          73  \n",
       "168  love nwantiti (feat. ElGrande Toto) - North Af...          71  \n",
       "169                                         Bad Habits          34  \n",
       "\n",
       "[170 rows x 4 columns]"
      ]
     },
     "execution_count": 62,
     "metadata": {},
     "output_type": "execute_result"
    }
   ],
   "source": [
    "df"
   ]
  },
  {
   "cell_type": "code",
   "execution_count": 63,
   "id": "1aaf412a-5b1f-4f1e-9322-d45ef75a19a3",
   "metadata": {},
   "outputs": [],
   "source": [
    "features = [sp.audio_features(i) for i in df['track_id']]"
   ]
  },
  {
   "cell_type": "code",
   "execution_count": 64,
   "id": "605325de-0ebf-42cd-a28f-a96631f68299",
   "metadata": {},
   "outputs": [],
   "source": [
    "df_features = pd.DataFrame(features[0])"
   ]
  },
  {
   "cell_type": "code",
   "execution_count": 65,
   "id": "ca4e86c2-8c5b-4f01-bdf7-3c628178769f",
   "metadata": {},
   "outputs": [],
   "source": [
    "for i in range(len(features)):\n",
    "    if i == 0: continue\n",
    "    df_features = df_features.append(pd.DataFrame(features[i]),ignore_index=True)"
   ]
  },
  {
   "cell_type": "code",
   "execution_count": 66,
   "id": "25821602-7708-4aee-9924-7f4fe3a03a4e",
   "metadata": {},
   "outputs": [
    {
     "data": {
      "text/plain": [
       "Index(['danceability', 'energy', 'key', 'loudness', 'mode', 'speechiness',\n",
       "       'acousticness', 'instrumentalness', 'liveness', 'valence', 'tempo',\n",
       "       'type', 'id', 'uri', 'track_href', 'analysis_url', 'duration_ms',\n",
       "       'time_signature'],\n",
       "      dtype='object')"
      ]
     },
     "execution_count": 66,
     "metadata": {},
     "output_type": "execute_result"
    }
   ],
   "source": [
    "df_features.columns"
   ]
  },
  {
   "cell_type": "code",
   "execution_count": 67,
   "id": "dcd8e159-1f48-4f1f-ba4f-8df11fc464d9",
   "metadata": {},
   "outputs": [],
   "source": [
    "# features"
   ]
  },
  {
   "cell_type": "code",
   "execution_count": 68,
   "id": "e95b6a7f-43d4-4d57-8092-d80be8e96ad4",
   "metadata": {},
   "outputs": [],
   "source": [
    "# we want to merge it with the huge csv file from kaggle, therefore we\n",
    "# order the columns and remove the cols we don't have in the csv file\n",
    "\n",
    "df_features = df_features[['acousticness', 'danceability', 'duration_ms', 'energy', 'instrumentalness', 'key', 'liveness', 'loudness', 'mode', 'speechiness', 'tempo', 'time_signature', 'valence']]"
   ]
  },
  {
   "cell_type": "code",
   "execution_count": 69,
   "id": "a4c3344a-c821-4d2c-9ad1-0d96362038eb",
   "metadata": {},
   "outputs": [],
   "source": [
    "df = pd.concat([df, df_features], axis=1)"
   ]
  },
  {
   "cell_type": "markdown",
   "id": "a59ecc71-1d6e-4dab-9763-507f9ce7b5c0",
   "metadata": {},
   "source": [
    "### Add data from kaggle"
   ]
  },
  {
   "cell_type": "code",
   "execution_count": 70,
   "id": "dbfb8439-138b-47b5-be0f-656f0410b04e",
   "metadata": {},
   "outputs": [
    {
     "data": {
      "text/plain": [
       "0       80\n",
       "1      100\n",
       "2       85\n",
       "3       80\n",
       "4       81\n",
       "      ... \n",
       "165     39\n",
       "166      1\n",
       "167     73\n",
       "168     71\n",
       "169     34\n",
       "Name: popularity, Length: 170, dtype: int64"
      ]
     },
     "execution_count": 70,
     "metadata": {},
     "output_type": "execute_result"
    }
   ],
   "source": [
    "df['popularity']"
   ]
  },
  {
   "cell_type": "code",
   "execution_count": 71,
   "id": "04087018-38c0-4b32-b3e4-29f106dd86d4",
   "metadata": {},
   "outputs": [
    {
     "data": {
      "text/html": [
       "<div>\n",
       "<style scoped>\n",
       "    .dataframe tbody tr th:only-of-type {\n",
       "        vertical-align: middle;\n",
       "    }\n",
       "\n",
       "    .dataframe tbody tr th {\n",
       "        vertical-align: top;\n",
       "    }\n",
       "\n",
       "    .dataframe thead th {\n",
       "        text-align: right;\n",
       "    }\n",
       "</style>\n",
       "<table border=\"1\" class=\"dataframe\">\n",
       "  <thead>\n",
       "    <tr style=\"text-align: right;\">\n",
       "      <th></th>\n",
       "      <th>artist_name</th>\n",
       "      <th>track_id</th>\n",
       "      <th>track_name</th>\n",
       "      <th>acousticness</th>\n",
       "      <th>danceability</th>\n",
       "      <th>duration_ms</th>\n",
       "      <th>energy</th>\n",
       "      <th>instrumentalness</th>\n",
       "      <th>key</th>\n",
       "      <th>liveness</th>\n",
       "      <th>loudness</th>\n",
       "      <th>mode</th>\n",
       "      <th>speechiness</th>\n",
       "      <th>tempo</th>\n",
       "      <th>time_signature</th>\n",
       "      <th>valence</th>\n",
       "      <th>popularity</th>\n",
       "    </tr>\n",
       "  </thead>\n",
       "  <tbody>\n",
       "    <tr>\n",
       "      <th>0</th>\n",
       "      <td>YG</td>\n",
       "      <td>2RM4jf1Xa9zPgMGRDiht8O</td>\n",
       "      <td>Big Bank feat. 2 Chainz, Big Sean, Nicki Minaj</td>\n",
       "      <td>0.005820</td>\n",
       "      <td>0.743</td>\n",
       "      <td>238373</td>\n",
       "      <td>0.339</td>\n",
       "      <td>0.000</td>\n",
       "      <td>1</td>\n",
       "      <td>0.0812</td>\n",
       "      <td>-7.678</td>\n",
       "      <td>1</td>\n",
       "      <td>0.4090</td>\n",
       "      <td>203.927</td>\n",
       "      <td>4</td>\n",
       "      <td>0.1180</td>\n",
       "      <td>15</td>\n",
       "    </tr>\n",
       "    <tr>\n",
       "      <th>1</th>\n",
       "      <td>YG</td>\n",
       "      <td>1tHDG53xJNGsItRA3vfVgs</td>\n",
       "      <td>BAND DRUM (feat. A$AP Rocky)</td>\n",
       "      <td>0.024400</td>\n",
       "      <td>0.846</td>\n",
       "      <td>214800</td>\n",
       "      <td>0.557</td>\n",
       "      <td>0.000</td>\n",
       "      <td>8</td>\n",
       "      <td>0.2860</td>\n",
       "      <td>-7.259</td>\n",
       "      <td>1</td>\n",
       "      <td>0.4570</td>\n",
       "      <td>159.009</td>\n",
       "      <td>4</td>\n",
       "      <td>0.3710</td>\n",
       "      <td>0</td>\n",
       "    </tr>\n",
       "    <tr>\n",
       "      <th>2</th>\n",
       "      <td>R3HAB</td>\n",
       "      <td>6Wosx2euFPMT14UXiWudMy</td>\n",
       "      <td>Radio Silence</td>\n",
       "      <td>0.025000</td>\n",
       "      <td>0.603</td>\n",
       "      <td>138913</td>\n",
       "      <td>0.723</td>\n",
       "      <td>0.000</td>\n",
       "      <td>9</td>\n",
       "      <td>0.0824</td>\n",
       "      <td>-5.890</td>\n",
       "      <td>0</td>\n",
       "      <td>0.0454</td>\n",
       "      <td>114.966</td>\n",
       "      <td>4</td>\n",
       "      <td>0.3820</td>\n",
       "      <td>56</td>\n",
       "    </tr>\n",
       "    <tr>\n",
       "      <th>3</th>\n",
       "      <td>Chris Cooq</td>\n",
       "      <td>3J2Jpw61sO7l6Hc7qdYV91</td>\n",
       "      <td>Lactose</td>\n",
       "      <td>0.029400</td>\n",
       "      <td>0.800</td>\n",
       "      <td>125381</td>\n",
       "      <td>0.579</td>\n",
       "      <td>0.912</td>\n",
       "      <td>5</td>\n",
       "      <td>0.0994</td>\n",
       "      <td>-12.118</td>\n",
       "      <td>0</td>\n",
       "      <td>0.0701</td>\n",
       "      <td>123.003</td>\n",
       "      <td>4</td>\n",
       "      <td>0.6410</td>\n",
       "      <td>0</td>\n",
       "    </tr>\n",
       "    <tr>\n",
       "      <th>4</th>\n",
       "      <td>Chris Cooq</td>\n",
       "      <td>2jbYvQCyPgX3CdmAzeVeuS</td>\n",
       "      <td>Same - Original mix</td>\n",
       "      <td>0.000035</td>\n",
       "      <td>0.783</td>\n",
       "      <td>124016</td>\n",
       "      <td>0.792</td>\n",
       "      <td>0.878</td>\n",
       "      <td>7</td>\n",
       "      <td>0.0332</td>\n",
       "      <td>-10.277</td>\n",
       "      <td>1</td>\n",
       "      <td>0.0661</td>\n",
       "      <td>120.047</td>\n",
       "      <td>4</td>\n",
       "      <td>0.9280</td>\n",
       "      <td>0</td>\n",
       "    </tr>\n",
       "    <tr>\n",
       "      <th>...</th>\n",
       "      <td>...</td>\n",
       "      <td>...</td>\n",
       "      <td>...</td>\n",
       "      <td>...</td>\n",
       "      <td>...</td>\n",
       "      <td>...</td>\n",
       "      <td>...</td>\n",
       "      <td>...</td>\n",
       "      <td>...</td>\n",
       "      <td>...</td>\n",
       "      <td>...</td>\n",
       "      <td>...</td>\n",
       "      <td>...</td>\n",
       "      <td>...</td>\n",
       "      <td>...</td>\n",
       "      <td>...</td>\n",
       "      <td>...</td>\n",
       "    </tr>\n",
       "    <tr>\n",
       "      <th>130658</th>\n",
       "      <td>Calum Scott</td>\n",
       "      <td>0cvfSKcm9VeduwyYPrxtLx</td>\n",
       "      <td>Come Back Home</td>\n",
       "      <td>0.006780</td>\n",
       "      <td>0.601</td>\n",
       "      <td>190539</td>\n",
       "      <td>0.801</td>\n",
       "      <td>0.000</td>\n",
       "      <td>11</td>\n",
       "      <td>0.0991</td>\n",
       "      <td>-5.174</td>\n",
       "      <td>1</td>\n",
       "      <td>0.0323</td>\n",
       "      <td>131.049</td>\n",
       "      <td>4</td>\n",
       "      <td>0.2890</td>\n",
       "      <td>57</td>\n",
       "    </tr>\n",
       "    <tr>\n",
       "      <th>130659</th>\n",
       "      <td>Saint Claire</td>\n",
       "      <td>43MP9F7UzvfilSrw2SqZGJ</td>\n",
       "      <td>Enough for You</td>\n",
       "      <td>0.918000</td>\n",
       "      <td>0.387</td>\n",
       "      <td>194583</td>\n",
       "      <td>0.249</td>\n",
       "      <td>0.000</td>\n",
       "      <td>9</td>\n",
       "      <td>0.1030</td>\n",
       "      <td>-13.233</td>\n",
       "      <td>1</td>\n",
       "      <td>0.0437</td>\n",
       "      <td>94.039</td>\n",
       "      <td>4</td>\n",
       "      <td>0.3460</td>\n",
       "      <td>60</td>\n",
       "    </tr>\n",
       "    <tr>\n",
       "      <th>130660</th>\n",
       "      <td>Mike Stud</td>\n",
       "      <td>4TWlUuFk81NGUNKwndyS5Q</td>\n",
       "      <td>Do It</td>\n",
       "      <td>0.330000</td>\n",
       "      <td>0.717</td>\n",
       "      <td>139191</td>\n",
       "      <td>0.532</td>\n",
       "      <td>0.000</td>\n",
       "      <td>8</td>\n",
       "      <td>0.0997</td>\n",
       "      <td>-8.351</td>\n",
       "      <td>0</td>\n",
       "      <td>0.2060</td>\n",
       "      <td>156.977</td>\n",
       "      <td>4</td>\n",
       "      <td>0.5460</td>\n",
       "      <td>47</td>\n",
       "    </tr>\n",
       "    <tr>\n",
       "      <th>130661</th>\n",
       "      <td>D Savage</td>\n",
       "      <td>5iGBXzOoRo4sBTy8wdzMyK</td>\n",
       "      <td>No Smoke</td>\n",
       "      <td>0.007900</td>\n",
       "      <td>0.772</td>\n",
       "      <td>180013</td>\n",
       "      <td>0.510</td>\n",
       "      <td>0.000</td>\n",
       "      <td>4</td>\n",
       "      <td>0.1310</td>\n",
       "      <td>-9.670</td>\n",
       "      <td>0</td>\n",
       "      <td>0.1200</td>\n",
       "      <td>120.049</td>\n",
       "      <td>4</td>\n",
       "      <td>0.0755</td>\n",
       "      <td>50</td>\n",
       "    </tr>\n",
       "    <tr>\n",
       "      <th>130662</th>\n",
       "      <td>Banda Los Sebastianes</td>\n",
       "      <td>7LNtyuekYHiZ99UxkrfCQR</td>\n",
       "      <td>En Vida</td>\n",
       "      <td>0.549000</td>\n",
       "      <td>0.715</td>\n",
       "      <td>145827</td>\n",
       "      <td>0.734</td>\n",
       "      <td>0.000</td>\n",
       "      <td>3</td>\n",
       "      <td>0.1080</td>\n",
       "      <td>-3.244</td>\n",
       "      <td>1</td>\n",
       "      <td>0.0367</td>\n",
       "      <td>130.128</td>\n",
       "      <td>3</td>\n",
       "      <td>0.9760</td>\n",
       "      <td>55</td>\n",
       "    </tr>\n",
       "  </tbody>\n",
       "</table>\n",
       "<p>130663 rows × 17 columns</p>\n",
       "</div>"
      ],
      "text/plain": [
       "                  artist_name                track_id  \\\n",
       "0                          YG  2RM4jf1Xa9zPgMGRDiht8O   \n",
       "1                          YG  1tHDG53xJNGsItRA3vfVgs   \n",
       "2                       R3HAB  6Wosx2euFPMT14UXiWudMy   \n",
       "3                  Chris Cooq  3J2Jpw61sO7l6Hc7qdYV91   \n",
       "4                  Chris Cooq  2jbYvQCyPgX3CdmAzeVeuS   \n",
       "...                       ...                     ...   \n",
       "130658            Calum Scott  0cvfSKcm9VeduwyYPrxtLx   \n",
       "130659           Saint Claire  43MP9F7UzvfilSrw2SqZGJ   \n",
       "130660              Mike Stud  4TWlUuFk81NGUNKwndyS5Q   \n",
       "130661               D Savage  5iGBXzOoRo4sBTy8wdzMyK   \n",
       "130662  Banda Los Sebastianes  7LNtyuekYHiZ99UxkrfCQR   \n",
       "\n",
       "                                            track_name  acousticness  \\\n",
       "0       Big Bank feat. 2 Chainz, Big Sean, Nicki Minaj      0.005820   \n",
       "1                         BAND DRUM (feat. A$AP Rocky)      0.024400   \n",
       "2                                        Radio Silence      0.025000   \n",
       "3                                              Lactose      0.029400   \n",
       "4                                  Same - Original mix      0.000035   \n",
       "...                                                ...           ...   \n",
       "130658                                  Come Back Home      0.006780   \n",
       "130659                                  Enough for You      0.918000   \n",
       "130660                                           Do It      0.330000   \n",
       "130661                                        No Smoke      0.007900   \n",
       "130662                                         En Vida      0.549000   \n",
       "\n",
       "        danceability  duration_ms  energy  instrumentalness  key  liveness  \\\n",
       "0              0.743       238373   0.339             0.000    1    0.0812   \n",
       "1              0.846       214800   0.557             0.000    8    0.2860   \n",
       "2              0.603       138913   0.723             0.000    9    0.0824   \n",
       "3              0.800       125381   0.579             0.912    5    0.0994   \n",
       "4              0.783       124016   0.792             0.878    7    0.0332   \n",
       "...              ...          ...     ...               ...  ...       ...   \n",
       "130658         0.601       190539   0.801             0.000   11    0.0991   \n",
       "130659         0.387       194583   0.249             0.000    9    0.1030   \n",
       "130660         0.717       139191   0.532             0.000    8    0.0997   \n",
       "130661         0.772       180013   0.510             0.000    4    0.1310   \n",
       "130662         0.715       145827   0.734             0.000    3    0.1080   \n",
       "\n",
       "        loudness  mode  speechiness    tempo  time_signature  valence  \\\n",
       "0         -7.678     1       0.4090  203.927               4   0.1180   \n",
       "1         -7.259     1       0.4570  159.009               4   0.3710   \n",
       "2         -5.890     0       0.0454  114.966               4   0.3820   \n",
       "3        -12.118     0       0.0701  123.003               4   0.6410   \n",
       "4        -10.277     1       0.0661  120.047               4   0.9280   \n",
       "...          ...   ...          ...      ...             ...      ...   \n",
       "130658    -5.174     1       0.0323  131.049               4   0.2890   \n",
       "130659   -13.233     1       0.0437   94.039               4   0.3460   \n",
       "130660    -8.351     0       0.2060  156.977               4   0.5460   \n",
       "130661    -9.670     0       0.1200  120.049               4   0.0755   \n",
       "130662    -3.244     1       0.0367  130.128               3   0.9760   \n",
       "\n",
       "        popularity  \n",
       "0               15  \n",
       "1                0  \n",
       "2               56  \n",
       "3                0  \n",
       "4                0  \n",
       "...            ...  \n",
       "130658          57  \n",
       "130659          60  \n",
       "130660          47  \n",
       "130661          50  \n",
       "130662          55  \n",
       "\n",
       "[130663 rows x 17 columns]"
      ]
     },
     "execution_count": 71,
     "metadata": {},
     "output_type": "execute_result"
    }
   ],
   "source": [
    "df_kaggle = pd.read_csv('spotifyfeatures.csv')\n",
    "df_kaggle"
   ]
  },
  {
   "cell_type": "code",
   "execution_count": 72,
   "id": "3cceb598-6c36-42a7-863d-170cbadc448a",
   "metadata": {},
   "outputs": [],
   "source": [
    "df = pd.concat([df, df_kaggle], axis=0)"
   ]
  },
  {
   "cell_type": "code",
   "execution_count": 73,
   "id": "ce99f63f-4af3-41be-9e2d-fa8743cb54b5",
   "metadata": {},
   "outputs": [
    {
     "data": {
      "text/plain": [
       "artist_name         0\n",
       "track_id            0\n",
       "track_name          0\n",
       "popularity          0\n",
       "acousticness        0\n",
       "danceability        0\n",
       "duration_ms         0\n",
       "energy              0\n",
       "instrumentalness    0\n",
       "key                 0\n",
       "liveness            0\n",
       "loudness            0\n",
       "mode                0\n",
       "speechiness         0\n",
       "tempo               0\n",
       "time_signature      0\n",
       "valence             0\n",
       "dtype: int64"
      ]
     },
     "execution_count": 73,
     "metadata": {},
     "output_type": "execute_result"
    }
   ],
   "source": [
    "df.isnull().sum()"
   ]
  },
  {
   "cell_type": "markdown",
   "id": "3915867d-508d-42b3-ad3e-b0dbb01e0eaf",
   "metadata": {},
   "source": [
    "# Lab 2 | Unsupervised learning intro"
   ]
  },
  {
   "cell_type": "markdown",
   "id": "141990ca-63f1-475b-8d55-0d973ec25823",
   "metadata": {},
   "source": [
    "![logo_ironhack_blue 7](https://user-images.githubusercontent.com/23629340/40541063-a07a0a8a-601a-11e8-91b5-2f13e4e6b441.png)\n",
    "\n",
    "\n",
    "## Instructions \n",
    "\n",
    "\n",
    "It's the moment to perform clustering on the songs you collected. Remember that the ultimate goal of this little project is to improve the recommendations of artists. Clustering the songs will allow the recommendation system to limit the scope of the recommendations to only songs that belong to the same cluster - songs with similar audio features.\n",
    "\n",
    "The experiments you did with the `Spotify` API and the Billboard web scraping will allow you to create a pipeline such that when the user enters a song, you:\n",
    "\n",
    "1. Check whether or not the song is in the Billboard Hot 200.\n",
    "2. Collect the audio features from the `Spotify` API.\n",
    "\n",
    "After that, you want to send the `Spotify` audio features of the submitted song to the clustering model, which should return a cluster number.\n",
    "\n",
    "We want to have as many songs as possible to create the clustering model, so we will add the songs you collected to a bigger dataset available on Kaggle containing 160 thousand songs."
   ]
  },
  {
   "cell_type": "markdown",
   "id": "ec4e443d-75e8-448b-ad10-17177ef5ab89",
   "metadata": {},
   "source": [
    "## Clustering"
   ]
  },
  {
   "cell_type": "code",
   "execution_count": 74,
   "id": "c199c823-982c-4dad-acfb-d8bef8b1e962",
   "metadata": {},
   "outputs": [],
   "source": [
    "X = df._get_numeric_data()\n",
    "X.columns\n",
    "y = pd.Series(df['track_name'])\n"
   ]
  },
  {
   "cell_type": "code",
   "execution_count": 75,
   "id": "9f89d2d2-940e-4d6a-8145-27952580bee8",
   "metadata": {},
   "outputs": [
    {
     "data": {
      "text/html": [
       "<div>\n",
       "<style scoped>\n",
       "    .dataframe tbody tr th:only-of-type {\n",
       "        vertical-align: middle;\n",
       "    }\n",
       "\n",
       "    .dataframe tbody tr th {\n",
       "        vertical-align: top;\n",
       "    }\n",
       "\n",
       "    .dataframe thead th {\n",
       "        text-align: right;\n",
       "    }\n",
       "</style>\n",
       "<table border=\"1\" class=\"dataframe\">\n",
       "  <thead>\n",
       "    <tr style=\"text-align: right;\">\n",
       "      <th></th>\n",
       "      <th>popularity</th>\n",
       "      <th>acousticness</th>\n",
       "      <th>danceability</th>\n",
       "      <th>duration_ms</th>\n",
       "      <th>energy</th>\n",
       "      <th>instrumentalness</th>\n",
       "      <th>key</th>\n",
       "      <th>liveness</th>\n",
       "      <th>loudness</th>\n",
       "      <th>mode</th>\n",
       "      <th>speechiness</th>\n",
       "      <th>tempo</th>\n",
       "      <th>time_signature</th>\n",
       "      <th>valence</th>\n",
       "    </tr>\n",
       "  </thead>\n",
       "  <tbody>\n",
       "    <tr>\n",
       "      <th>0</th>\n",
       "      <td>2.820199</td>\n",
       "      <td>-0.591394</td>\n",
       "      <td>0.586173</td>\n",
       "      <td>-0.399173</td>\n",
       "      <td>0.283264</td>\n",
       "      <td>-0.621235</td>\n",
       "      <td>-0.342208</td>\n",
       "      <td>-0.518061</td>\n",
       "      <td>0.627152</td>\n",
       "      <td>-1.244373</td>\n",
       "      <td>-0.235052</td>\n",
       "      <td>-0.809927</td>\n",
       "      <td>0.235157</td>\n",
       "      <td>0.143949</td>\n",
       "    </tr>\n",
       "    <tr>\n",
       "      <th>1</th>\n",
       "      <td>3.832111</td>\n",
       "      <td>-0.001010</td>\n",
       "      <td>-0.324148</td>\n",
       "      <td>-0.367870</td>\n",
       "      <td>0.621460</td>\n",
       "      <td>-0.618431</td>\n",
       "      <td>0.212919</td>\n",
       "      <td>0.692581</td>\n",
       "      <td>0.708019</td>\n",
       "      <td>-1.244373</td>\n",
       "      <td>-0.453077</td>\n",
       "      <td>1.805292</td>\n",
       "      <td>0.235157</td>\n",
       "      <td>0.858153</td>\n",
       "    </tr>\n",
       "    <tr>\n",
       "      <th>2</th>\n",
       "      <td>3.073177</td>\n",
       "      <td>-0.742462</td>\n",
       "      <td>-1.081873</td>\n",
       "      <td>-0.388351</td>\n",
       "      <td>0.337068</td>\n",
       "      <td>-0.621235</td>\n",
       "      <td>0.490483</td>\n",
       "      <td>-0.634951</td>\n",
       "      <td>0.811969</td>\n",
       "      <td>0.803618</td>\n",
       "      <td>-0.283323</td>\n",
       "      <td>-1.290364</td>\n",
       "      <td>0.235157</td>\n",
       "      <td>-0.913844</td>\n",
       "    </tr>\n",
       "    <tr>\n",
       "      <th>3</th>\n",
       "      <td>2.820199</td>\n",
       "      <td>-0.142818</td>\n",
       "      <td>0.886106</td>\n",
       "      <td>0.021280</td>\n",
       "      <td>0.875107</td>\n",
       "      <td>-0.621235</td>\n",
       "      <td>-1.452463</td>\n",
       "      <td>1.175645</td>\n",
       "      <td>0.786287</td>\n",
       "      <td>0.803618</td>\n",
       "      <td>0.048140</td>\n",
       "      <td>-0.448720</td>\n",
       "      <td>0.235157</td>\n",
       "      <td>0.321535</td>\n",
       "    </tr>\n",
       "    <tr>\n",
       "      <th>4</th>\n",
       "      <td>2.870795</td>\n",
       "      <td>-0.909159</td>\n",
       "      <td>0.102072</td>\n",
       "      <td>-0.347941</td>\n",
       "      <td>0.552283</td>\n",
       "      <td>-0.621235</td>\n",
       "      <td>-0.342208</td>\n",
       "      <td>-0.219874</td>\n",
       "      <td>0.949550</td>\n",
       "      <td>-1.244373</td>\n",
       "      <td>-0.539965</td>\n",
       "      <td>0.112388</td>\n",
       "      <td>0.235157</td>\n",
       "      <td>0.093762</td>\n",
       "    </tr>\n",
       "  </tbody>\n",
       "</table>\n",
       "</div>"
      ],
      "text/plain": [
       "   popularity  acousticness  danceability  duration_ms    energy  \\\n",
       "0    2.820199     -0.591394      0.586173    -0.399173  0.283264   \n",
       "1    3.832111     -0.001010     -0.324148    -0.367870  0.621460   \n",
       "2    3.073177     -0.742462     -1.081873    -0.388351  0.337068   \n",
       "3    2.820199     -0.142818      0.886106     0.021280  0.875107   \n",
       "4    2.870795     -0.909159      0.102072    -0.347941  0.552283   \n",
       "\n",
       "   instrumentalness       key  liveness  loudness      mode  speechiness  \\\n",
       "0         -0.621235 -0.342208 -0.518061  0.627152 -1.244373    -0.235052   \n",
       "1         -0.618431  0.212919  0.692581  0.708019 -1.244373    -0.453077   \n",
       "2         -0.621235  0.490483 -0.634951  0.811969  0.803618    -0.283323   \n",
       "3         -0.621235 -1.452463  1.175645  0.786287  0.803618     0.048140   \n",
       "4         -0.621235 -0.342208 -0.219874  0.949550 -1.244373    -0.539965   \n",
       "\n",
       "      tempo  time_signature   valence  \n",
       "0 -0.809927        0.235157  0.143949  \n",
       "1  1.805292        0.235157  0.858153  \n",
       "2 -1.290364        0.235157 -0.913844  \n",
       "3 -0.448720        0.235157  0.321535  \n",
       "4  0.112388        0.235157  0.093762  "
      ]
     },
     "execution_count": 75,
     "metadata": {},
     "output_type": "execute_result"
    }
   ],
   "source": [
    "# The scale of \"proline\" is much higher than the scale of many other variables!\n",
    "# K-Means is a distance based algorithm: we need to scale / normalize:\n",
    "\n",
    "from sklearn.preprocessing import StandardScaler\n",
    "X_prep = StandardScaler().fit_transform(X)\n",
    "\n",
    "# Now, all features will have the same weight.\n",
    "pd.DataFrame(X_prep,columns=X.columns).head()"
   ]
  },
  {
   "cell_type": "code",
   "execution_count": 76,
   "id": "074b11ab-aa8c-4f97-80b6-76e62be23ea5",
   "metadata": {},
   "outputs": [
    {
     "data": {
      "text/plain": [
       "KMeans(n_clusters=3, random_state=1234)"
      ]
     },
     "execution_count": 76,
     "metadata": {},
     "output_type": "execute_result"
    }
   ],
   "source": [
    "from sklearn.cluster import KMeans\n",
    "\n",
    "kmeans = KMeans(n_clusters=3, random_state=1234)\n",
    "kmeans.fit(X_prep)"
   ]
  },
  {
   "cell_type": "code",
   "execution_count": 77,
   "id": "07ee2d19-bbed-4c15-b6b9-cd646063b369",
   "metadata": {},
   "outputs": [
    {
     "data": {
      "text/plain": [
       "0    42506\n",
       "1    61231\n",
       "2    27096\n",
       "dtype: int64"
      ]
     },
     "execution_count": 77,
     "metadata": {},
     "output_type": "execute_result"
    }
   ],
   "source": [
    "# Predicting / assigning the clusters:\n",
    "clusters = kmeans.predict(X_prep)\n",
    "\n",
    "# Check the size of the clusters\n",
    "pd.Series(clusters).value_counts().sort_index()"
   ]
  },
  {
   "cell_type": "code",
   "execution_count": 78,
   "id": "0da9d721-b009-47c7-a569-4685d219a153",
   "metadata": {},
   "outputs": [
    {
     "data": {
      "text/plain": [
       "array([0, 0, 1, ..., 0, 0, 1])"
      ]
     },
     "execution_count": 78,
     "metadata": {},
     "output_type": "execute_result"
    }
   ],
   "source": [
    "clusters"
   ]
  },
  {
   "cell_type": "code",
   "execution_count": 79,
   "id": "72ebd81c-5d21-4692-80ef-876bb95858f5",
   "metadata": {},
   "outputs": [],
   "source": [
    "df['cluster'] = clusters"
   ]
  },
  {
   "cell_type": "code",
   "execution_count": 80,
   "id": "8c0c44b1-8adc-4200-840b-3eae3bf58297",
   "metadata": {},
   "outputs": [
    {
     "data": {
      "text/html": [
       "<div>\n",
       "<style scoped>\n",
       "    .dataframe tbody tr th:only-of-type {\n",
       "        vertical-align: middle;\n",
       "    }\n",
       "\n",
       "    .dataframe tbody tr th {\n",
       "        vertical-align: top;\n",
       "    }\n",
       "\n",
       "    .dataframe thead th {\n",
       "        text-align: right;\n",
       "    }\n",
       "</style>\n",
       "<table border=\"1\" class=\"dataframe\">\n",
       "  <thead>\n",
       "    <tr style=\"text-align: right;\">\n",
       "      <th></th>\n",
       "      <th>artist_name</th>\n",
       "      <th>track_id</th>\n",
       "      <th>track_name</th>\n",
       "      <th>popularity</th>\n",
       "      <th>acousticness</th>\n",
       "      <th>danceability</th>\n",
       "      <th>duration_ms</th>\n",
       "      <th>energy</th>\n",
       "      <th>instrumentalness</th>\n",
       "      <th>key</th>\n",
       "      <th>liveness</th>\n",
       "      <th>loudness</th>\n",
       "      <th>mode</th>\n",
       "      <th>speechiness</th>\n",
       "      <th>tempo</th>\n",
       "      <th>time_signature</th>\n",
       "      <th>valence</th>\n",
       "      <th>cluster</th>\n",
       "    </tr>\n",
       "  </thead>\n",
       "  <tbody>\n",
       "    <tr>\n",
       "      <th>0</th>\n",
       "      <td>Ed Sheeran, Lil Baby</td>\n",
       "      <td>spotify:track:2UN0lp72LAusrXi8LLVomt</td>\n",
       "      <td>2step (feat. Lil Baby)</td>\n",
       "      <td>80</td>\n",
       "      <td>0.13800</td>\n",
       "      <td>0.693</td>\n",
       "      <td>163450</td>\n",
       "      <td>0.643</td>\n",
       "      <td>0.00000</td>\n",
       "      <td>4</td>\n",
       "      <td>0.1080</td>\n",
       "      <td>-5.867</td>\n",
       "      <td>0</td>\n",
       "      <td>0.0828</td>\n",
       "      <td>95.055</td>\n",
       "      <td>4</td>\n",
       "      <td>0.4770</td>\n",
       "      <td>0</td>\n",
       "    </tr>\n",
       "    <tr>\n",
       "      <th>1</th>\n",
       "      <td>Harry Styles</td>\n",
       "      <td>spotify:track:4LRPiXqCikLlN15c3yImP7</td>\n",
       "      <td>As It Was</td>\n",
       "      <td>100</td>\n",
       "      <td>0.34200</td>\n",
       "      <td>0.520</td>\n",
       "      <td>167303</td>\n",
       "      <td>0.731</td>\n",
       "      <td>0.00101</td>\n",
       "      <td>6</td>\n",
       "      <td>0.3110</td>\n",
       "      <td>-5.338</td>\n",
       "      <td>0</td>\n",
       "      <td>0.0557</td>\n",
       "      <td>173.930</td>\n",
       "      <td>4</td>\n",
       "      <td>0.6620</td>\n",
       "      <td>0</td>\n",
       "    </tr>\n",
       "    <tr>\n",
       "      <th>2</th>\n",
       "      <td>The Kid LAROI</td>\n",
       "      <td>spotify:track:1r8ZCjfrQxoy2wVaBUbpwg</td>\n",
       "      <td>Thousand Miles</td>\n",
       "      <td>85</td>\n",
       "      <td>0.08580</td>\n",
       "      <td>0.376</td>\n",
       "      <td>164782</td>\n",
       "      <td>0.657</td>\n",
       "      <td>0.00000</td>\n",
       "      <td>7</td>\n",
       "      <td>0.0884</td>\n",
       "      <td>-4.658</td>\n",
       "      <td>1</td>\n",
       "      <td>0.0768</td>\n",
       "      <td>80.565</td>\n",
       "      <td>4</td>\n",
       "      <td>0.2030</td>\n",
       "      <td>1</td>\n",
       "    </tr>\n",
       "    <tr>\n",
       "      <th>3</th>\n",
       "      <td>Kygo, DNCE</td>\n",
       "      <td>spotify:track:4RAR8g8fZNB106ezUurnE0</td>\n",
       "      <td>Dancing Feet (feat. DNCE)</td>\n",
       "      <td>80</td>\n",
       "      <td>0.29300</td>\n",
       "      <td>0.750</td>\n",
       "      <td>215203</td>\n",
       "      <td>0.797</td>\n",
       "      <td>0.00000</td>\n",
       "      <td>0</td>\n",
       "      <td>0.3920</td>\n",
       "      <td>-4.826</td>\n",
       "      <td>1</td>\n",
       "      <td>0.1180</td>\n",
       "      <td>105.949</td>\n",
       "      <td>4</td>\n",
       "      <td>0.5230</td>\n",
       "      <td>1</td>\n",
       "    </tr>\n",
       "    <tr>\n",
       "      <th>4</th>\n",
       "      <td>David Guetta, Becky Hill, Ella Henderson</td>\n",
       "      <td>spotify:track:1WCEAGGRD066z2Q89ObXTq</td>\n",
       "      <td>Crazy What Love Can Do</td>\n",
       "      <td>81</td>\n",
       "      <td>0.02820</td>\n",
       "      <td>0.601</td>\n",
       "      <td>169756</td>\n",
       "      <td>0.713</td>\n",
       "      <td>0.00000</td>\n",
       "      <td>4</td>\n",
       "      <td>0.1580</td>\n",
       "      <td>-3.758</td>\n",
       "      <td>0</td>\n",
       "      <td>0.0449</td>\n",
       "      <td>122.872</td>\n",
       "      <td>4</td>\n",
       "      <td>0.4640</td>\n",
       "      <td>0</td>\n",
       "    </tr>\n",
       "    <tr>\n",
       "      <th>...</th>\n",
       "      <td>...</td>\n",
       "      <td>...</td>\n",
       "      <td>...</td>\n",
       "      <td>...</td>\n",
       "      <td>...</td>\n",
       "      <td>...</td>\n",
       "      <td>...</td>\n",
       "      <td>...</td>\n",
       "      <td>...</td>\n",
       "      <td>...</td>\n",
       "      <td>...</td>\n",
       "      <td>...</td>\n",
       "      <td>...</td>\n",
       "      <td>...</td>\n",
       "      <td>...</td>\n",
       "      <td>...</td>\n",
       "      <td>...</td>\n",
       "      <td>...</td>\n",
       "    </tr>\n",
       "    <tr>\n",
       "      <th>130658</th>\n",
       "      <td>Calum Scott</td>\n",
       "      <td>0cvfSKcm9VeduwyYPrxtLx</td>\n",
       "      <td>Come Back Home</td>\n",
       "      <td>57</td>\n",
       "      <td>0.00678</td>\n",
       "      <td>0.601</td>\n",
       "      <td>190539</td>\n",
       "      <td>0.801</td>\n",
       "      <td>0.00000</td>\n",
       "      <td>11</td>\n",
       "      <td>0.0991</td>\n",
       "      <td>-5.174</td>\n",
       "      <td>1</td>\n",
       "      <td>0.0323</td>\n",
       "      <td>131.049</td>\n",
       "      <td>4</td>\n",
       "      <td>0.2890</td>\n",
       "      <td>1</td>\n",
       "    </tr>\n",
       "    <tr>\n",
       "      <th>130659</th>\n",
       "      <td>Saint Claire</td>\n",
       "      <td>43MP9F7UzvfilSrw2SqZGJ</td>\n",
       "      <td>Enough for You</td>\n",
       "      <td>60</td>\n",
       "      <td>0.91800</td>\n",
       "      <td>0.387</td>\n",
       "      <td>194583</td>\n",
       "      <td>0.249</td>\n",
       "      <td>0.00000</td>\n",
       "      <td>9</td>\n",
       "      <td>0.1030</td>\n",
       "      <td>-13.233</td>\n",
       "      <td>1</td>\n",
       "      <td>0.0437</td>\n",
       "      <td>94.039</td>\n",
       "      <td>4</td>\n",
       "      <td>0.3460</td>\n",
       "      <td>2</td>\n",
       "    </tr>\n",
       "    <tr>\n",
       "      <th>130660</th>\n",
       "      <td>Mike Stud</td>\n",
       "      <td>4TWlUuFk81NGUNKwndyS5Q</td>\n",
       "      <td>Do It</td>\n",
       "      <td>47</td>\n",
       "      <td>0.33000</td>\n",
       "      <td>0.717</td>\n",
       "      <td>139191</td>\n",
       "      <td>0.532</td>\n",
       "      <td>0.00000</td>\n",
       "      <td>8</td>\n",
       "      <td>0.0997</td>\n",
       "      <td>-8.351</td>\n",
       "      <td>0</td>\n",
       "      <td>0.2060</td>\n",
       "      <td>156.977</td>\n",
       "      <td>4</td>\n",
       "      <td>0.5460</td>\n",
       "      <td>0</td>\n",
       "    </tr>\n",
       "    <tr>\n",
       "      <th>130661</th>\n",
       "      <td>D Savage</td>\n",
       "      <td>5iGBXzOoRo4sBTy8wdzMyK</td>\n",
       "      <td>No Smoke</td>\n",
       "      <td>50</td>\n",
       "      <td>0.00790</td>\n",
       "      <td>0.772</td>\n",
       "      <td>180013</td>\n",
       "      <td>0.510</td>\n",
       "      <td>0.00000</td>\n",
       "      <td>4</td>\n",
       "      <td>0.1310</td>\n",
       "      <td>-9.670</td>\n",
       "      <td>0</td>\n",
       "      <td>0.1200</td>\n",
       "      <td>120.049</td>\n",
       "      <td>4</td>\n",
       "      <td>0.0755</td>\n",
       "      <td>0</td>\n",
       "    </tr>\n",
       "    <tr>\n",
       "      <th>130662</th>\n",
       "      <td>Banda Los Sebastianes</td>\n",
       "      <td>7LNtyuekYHiZ99UxkrfCQR</td>\n",
       "      <td>En Vida</td>\n",
       "      <td>55</td>\n",
       "      <td>0.54900</td>\n",
       "      <td>0.715</td>\n",
       "      <td>145827</td>\n",
       "      <td>0.734</td>\n",
       "      <td>0.00000</td>\n",
       "      <td>3</td>\n",
       "      <td>0.1080</td>\n",
       "      <td>-3.244</td>\n",
       "      <td>1</td>\n",
       "      <td>0.0367</td>\n",
       "      <td>130.128</td>\n",
       "      <td>3</td>\n",
       "      <td>0.9760</td>\n",
       "      <td>1</td>\n",
       "    </tr>\n",
       "  </tbody>\n",
       "</table>\n",
       "<p>130833 rows × 18 columns</p>\n",
       "</div>"
      ],
      "text/plain": [
       "                                     artist_name  \\\n",
       "0                           Ed Sheeran, Lil Baby   \n",
       "1                                   Harry Styles   \n",
       "2                                  The Kid LAROI   \n",
       "3                                     Kygo, DNCE   \n",
       "4       David Guetta, Becky Hill, Ella Henderson   \n",
       "...                                          ...   \n",
       "130658                               Calum Scott   \n",
       "130659                              Saint Claire   \n",
       "130660                                 Mike Stud   \n",
       "130661                                  D Savage   \n",
       "130662                     Banda Los Sebastianes   \n",
       "\n",
       "                                    track_id                 track_name  \\\n",
       "0       spotify:track:2UN0lp72LAusrXi8LLVomt     2step (feat. Lil Baby)   \n",
       "1       spotify:track:4LRPiXqCikLlN15c3yImP7                  As It Was   \n",
       "2       spotify:track:1r8ZCjfrQxoy2wVaBUbpwg             Thousand Miles   \n",
       "3       spotify:track:4RAR8g8fZNB106ezUurnE0  Dancing Feet (feat. DNCE)   \n",
       "4       spotify:track:1WCEAGGRD066z2Q89ObXTq     Crazy What Love Can Do   \n",
       "...                                      ...                        ...   \n",
       "130658                0cvfSKcm9VeduwyYPrxtLx             Come Back Home   \n",
       "130659                43MP9F7UzvfilSrw2SqZGJ             Enough for You   \n",
       "130660                4TWlUuFk81NGUNKwndyS5Q                      Do It   \n",
       "130661                5iGBXzOoRo4sBTy8wdzMyK                   No Smoke   \n",
       "130662                7LNtyuekYHiZ99UxkrfCQR                    En Vida   \n",
       "\n",
       "        popularity  acousticness  danceability  duration_ms  energy  \\\n",
       "0               80       0.13800         0.693       163450   0.643   \n",
       "1              100       0.34200         0.520       167303   0.731   \n",
       "2               85       0.08580         0.376       164782   0.657   \n",
       "3               80       0.29300         0.750       215203   0.797   \n",
       "4               81       0.02820         0.601       169756   0.713   \n",
       "...            ...           ...           ...          ...     ...   \n",
       "130658          57       0.00678         0.601       190539   0.801   \n",
       "130659          60       0.91800         0.387       194583   0.249   \n",
       "130660          47       0.33000         0.717       139191   0.532   \n",
       "130661          50       0.00790         0.772       180013   0.510   \n",
       "130662          55       0.54900         0.715       145827   0.734   \n",
       "\n",
       "        instrumentalness  key  liveness  loudness  mode  speechiness    tempo  \\\n",
       "0                0.00000    4    0.1080    -5.867     0       0.0828   95.055   \n",
       "1                0.00101    6    0.3110    -5.338     0       0.0557  173.930   \n",
       "2                0.00000    7    0.0884    -4.658     1       0.0768   80.565   \n",
       "3                0.00000    0    0.3920    -4.826     1       0.1180  105.949   \n",
       "4                0.00000    4    0.1580    -3.758     0       0.0449  122.872   \n",
       "...                  ...  ...       ...       ...   ...          ...      ...   \n",
       "130658           0.00000   11    0.0991    -5.174     1       0.0323  131.049   \n",
       "130659           0.00000    9    0.1030   -13.233     1       0.0437   94.039   \n",
       "130660           0.00000    8    0.0997    -8.351     0       0.2060  156.977   \n",
       "130661           0.00000    4    0.1310    -9.670     0       0.1200  120.049   \n",
       "130662           0.00000    3    0.1080    -3.244     1       0.0367  130.128   \n",
       "\n",
       "        time_signature  valence  cluster  \n",
       "0                    4   0.4770        0  \n",
       "1                    4   0.6620        0  \n",
       "2                    4   0.2030        1  \n",
       "3                    4   0.5230        1  \n",
       "4                    4   0.4640        0  \n",
       "...                ...      ...      ...  \n",
       "130658               4   0.2890        1  \n",
       "130659               4   0.3460        2  \n",
       "130660               4   0.5460        0  \n",
       "130661               4   0.0755        0  \n",
       "130662               3   0.9760        1  \n",
       "\n",
       "[130833 rows x 18 columns]"
      ]
     },
     "execution_count": 80,
     "metadata": {},
     "output_type": "execute_result"
    }
   ],
   "source": [
    "df"
   ]
  },
  {
   "cell_type": "code",
   "execution_count": 83,
   "id": "f7e0f5de-8c32-45a7-a5b5-6f0670aa542a",
   "metadata": {},
   "outputs": [],
   "source": [
    "import matplotlib.pyplot as plt"
   ]
  },
  {
   "cell_type": "code",
   "execution_count": 84,
   "id": "663d7882-8b0b-4880-9533-f6b3bedfaff7",
   "metadata": {},
   "outputs": [
    {
     "data": {
      "image/png": "[encoded data removed]",
      "text/plain": [
       "<Figure size 360x360 with 1 Axes>"
      ]
     },
     "metadata": {
      "needs_background": "light"
     },
     "output_type": "display_data"
    }
   ],
   "source": [
    "plt.figure(figsize=(5, 5))\n",
    "plt.scatter(X_prep[:, 0], X_prep[:, 4], c=clusters,alpha=0.5)\n",
    "plt.show()"
   ]
  },
  {
   "cell_type": "code",
   "execution_count": 85,
   "id": "1f7f6111-ee1b-4896-8a00-a882aa648f2b",
   "metadata": {},
   "outputs": [
    {
     "name": "stdout",
     "output_type": "stream",
     "text": [
      "1334605.6682295164\n",
      "Wall time: 4.71 s\n"
     ]
    }
   ],
   "source": [
    "%%time\n",
    "kmeans = KMeans(n_clusters=4,\n",
    "                init=\"random\",\n",
    "                n_init=100,  # try with 1, 4, 8, 20, 30, 100...\n",
    "                max_iter=10,\n",
    "                tol=0,\n",
    "                random_state=1234)\n",
    "kmeans.fit(X_prep)\n",
    "print(kmeans.inertia_)"
   ]
  },
  {
   "cell_type": "code",
   "execution_count": null,
   "id": "e8cf0d00-9c08-4240-97e3-cd4e67e37784",
   "metadata": {},
   "outputs": [],
   "source": [
    "import numpy as np\n",
    "K = range(2, 20)\n",
    "inertia = []\n",
    "\n",
    "for k in K:\n",
    "    kmeans = KMeans(n_clusters=k,\n",
    "                    random_state=1234)\n",
    "    kmeans.fit(X_prep)\n",
    "    inertia.append(kmeans.inertia_)\n",
    "\n",
    "import matplotlib.pyplot as plt\n",
    "%matplotlib inline\n",
    "\n",
    "plt.figure(figsize=(16,8))\n",
    "plt.plot(K, inertia, 'bx-')\n",
    "plt.xlabel('k')\n",
    "plt.ylabel('inertia')\n",
    "plt.xticks(np.arange(min(K), max(K)+1, 1.0))\n",
    "plt.title('Elbow Method showing the optimal k')"
   ]
  },
  {
   "cell_type": "markdown",
   "id": "4189c4bb-eebd-4efa-a9ae-eff5d35d3430",
   "metadata": {},
   "source": [
    "### Silhouette Score"
   ]
  },
  {
   "cell_type": "code",
   "execution_count": null,
   "id": "c79f1770-6766-47e8-885b-e20883bd6fd4",
   "metadata": {},
   "outputs": [],
   "source": [
    "# deactivated because of loading time"
   ]
  },
  {
   "cell_type": "markdown",
   "id": "3bacd5f6-2fef-48a6-8997-3127c1e65b83",
   "metadata": {},
   "source": [
    "from sklearn.metrics import silhouette_score\n",
    "K = range(2, 20)\n",
    "silhouette = []\n",
    "\n",
    "for k in K:\n",
    "    kmeans = KMeans(n_clusters=k,\n",
    "                    random_state=1234)\n",
    "    kmeans.fit(X_prep)\n",
    "    silhouette.append(silhouette_score(X_prep, kmeans.predict(X_prep)))\n",
    "\n",
    "\n",
    "plt.figure(figsize=(16,8))\n",
    "plt.plot(K, silhouette, 'bx-')\n",
    "plt.xlabel('k')\n",
    "plt.ylabel('silhouette score')\n",
    "plt.xticks(np.arange(min(K), max(K)+1, 1.0))\n",
    "plt.title('Slhouette score showing the optimal k')"
   ]
  },
  {
   "cell_type": "markdown",
   "id": "d2552ebc-9858-42c9-878b-7a775e2f6d9a",
   "metadata": {},
   "source": [
    "<img src=\"silhouette.jpg\">"
   ]
  },
  {
   "cell_type": "code",
   "execution_count": null,
   "id": "306d3eae-9c0e-44fd-8861-6370fe9fd633",
   "metadata": {},
   "outputs": [],
   "source": []
  }
 ],
 "metadata": {
  "kernelspec": {
   "display_name": "Python 3 (ipykernel)",
   "language": "python",
   "name": "python3"
  },
  "language_info": {
   "codemirror_mode": {
    "name": "ipython",
    "version": 3
   },
   "file_extension": ".py",
   "mimetype": "text/x-python",
   "name": "python",
   "nbconvert_exporter": "python",
   "pygments_lexer": "ipython3",
   "version": "3.9.7"
  }
 },
 "nbformat": 4,
 "nbformat_minor": 5
}
